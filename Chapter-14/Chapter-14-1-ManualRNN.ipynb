{
 "cells": [
  {
   "cell_type": "markdown",
   "metadata": {},
   "source": [
    "In a Simple / Basic RNN, it is all about implementing the following equation\n",
    "\n",
    "$Y_t = f( X_t . W_x +  Y_{t-1} . W_y  + b )$"
   ]
  },
  {
   "cell_type": "code",
   "execution_count": 1,
   "metadata": {
    "collapsed": true
   },
   "outputs": [],
   "source": [
    "import numpy as np\n",
    "import tensorflow as tf\n",
    "import os\n",
    "from datetime import datetime"
   ]
  },
  {
   "cell_type": "code",
   "execution_count": 2,
   "metadata": {
    "collapsed": true
   },
   "outputs": [],
   "source": [
    "n_inputs = 3\n",
    "n_neurons = 5"
   ]
  },
  {
   "cell_type": "code",
   "execution_count": 3,
   "metadata": {},
   "outputs": [],
   "source": [
    "# Each row of X corresponds to an instance and each column corresponds to a feature\n",
    "X0 = tf.placeholder(tf.float32, [None, n_inputs], name='X0') # Timestep 0\n",
    "X1 = tf.placeholder(tf.float32, [None, n_inputs], name='X1') # Timestep 1\n",
    "X2 = tf.placeholder(tf.float32, [None, n_inputs], name='X2') # Timestep 1\n",
    "\n",
    "Wx = tf.Variable(tf.random_normal(shape=[n_inputs, n_neurons]), dtype=tf.float32, name='Wx')\n",
    "Wy = tf.Variable(tf.random_normal(shape=[n_neurons, n_neurons]), dtype=tf.float32, name='Wy')\n",
    "b = tf.Variable(tf.zeros([1, n_neurons]), dtype=tf.float32, name='Wb')\n",
    "\n",
    "Y0 = tf.nn.tanh(tf.matmul(X0, Wx) + b, name='Y0')\n",
    "Y1 = tf.nn.tanh(tf.matmul(X1, Wx) + tf.matmul(Y0, Wy) + b, name='Y1')\n",
    "Y2 = tf.nn.tanh(tf.matmul(X2, Wx) + tf.matmul(Y1, Wy) + b, name='Y2')\n"
   ]
  },
  {
   "cell_type": "code",
   "execution_count": 4,
   "metadata": {},
   "outputs": [],
   "source": [
    "now = datetime.utcnow().strftime(\"%Y-%m-%d-%H:%M:%S\")\n",
    "root_logdir = \"tf_logs\"\n",
    "logdir = os.path.join(os.getcwd(),\"{}/run-{}\".format(root_logdir, now))\n",
    "\n",
    "file_writer = tf.summary.FileWriter(logdir, tf.get_default_graph())"
   ]
  },
  {
   "cell_type": "code",
   "execution_count": 5,
   "metadata": {},
   "outputs": [],
   "source": [
    "init = tf.global_variables_initializer()\n",
    "# Mini-batch\n",
    "X0_batch = np.array([[0,1,2],[3,4,5],[6,7,8],[9,0,1]])\n",
    "X1_batch = np.array([[9,8,7],[0,0,0],[6,5,4],[3,2,1]])\n",
    "X2_batch = np.array([[0,1,2],[3,4,5],[6,7,8],[9,0,1]])\n",
    "\n",
    "\n",
    "sess = tf.InteractiveSession()\n",
    "init.run()\n",
    "np_Y0, np_Y1, np_Y2 = sess.run([Y0, Y1, Y2], feed_dict={X0:X0_batch, X1:X1_batch, X2:X2_batch})\n",
    "sess.close()\n",
    "file_writer.close()"
   ]
  },
  {
   "cell_type": "code",
   "execution_count": 6,
   "metadata": {},
   "outputs": [
    {
     "data": {
      "text/plain": [
       "array([[ 0.33835259, -0.84618235, -0.99935466, -0.28039938, -0.53304422],\n",
       "       [ 0.01994143,  0.76263952, -1.        , -0.32157186, -1.        ],\n",
       "       [-0.30256701,  0.99698287, -1.        , -0.36156327, -1.        ],\n",
       "       [-0.95251971,  0.99999958, -1.        , -0.99999994, -1.        ]], dtype=float32)"
      ]
     },
     "execution_count": 6,
     "metadata": {},
     "output_type": "execute_result"
    }
   ],
   "source": [
    "np_Y0"
   ]
  },
  {
   "cell_type": "code",
   "execution_count": 7,
   "metadata": {},
   "outputs": [
    {
     "data": {
      "text/plain": [
       "array([[-0.8341279 ,  1.        , -1.        ,  0.82065201, -1.        ],\n",
       "       [ 0.96702808,  0.99601501,  0.41978654,  0.97099245, -0.99402833],\n",
       "       [ 0.65673351,  0.99999994, -1.        ,  0.98909044, -1.        ],\n",
       "       [-0.37776938,  0.99999583, -1.        ,  0.99647963, -1.        ]], dtype=float32)"
      ]
     },
     "execution_count": 7,
     "metadata": {},
     "output_type": "execute_result"
    }
   ],
   "source": [
    "np_Y1"
   ]
  }
 ],
 "metadata": {
  "kernelspec": {
   "display_name": "Python 3",
   "language": "python",
   "name": "python3"
  },
  "language_info": {
   "codemirror_mode": {
    "name": "ipython",
    "version": 3
   },
   "file_extension": ".py",
   "mimetype": "text/x-python",
   "name": "python",
   "nbconvert_exporter": "python",
   "pygments_lexer": "ipython3",
   "version": "3.5.2"
  }
 },
 "nbformat": 4,
 "nbformat_minor": 2
}
