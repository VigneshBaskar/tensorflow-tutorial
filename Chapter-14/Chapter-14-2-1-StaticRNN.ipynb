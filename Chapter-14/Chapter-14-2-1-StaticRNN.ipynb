{
 "cells": [
  {
   "cell_type": "markdown",
   "metadata": {},
   "source": [
    "In a Simple / Basic RNN, it is all about implementing the following equation\n",
    "\n",
    "$Y_t = f( X_t . W_x +  Y_{t-1} . W_y  + b )$"
   ]
  },
  {
   "cell_type": "code",
   "execution_count": 1,
   "metadata": {
    "collapsed": true
   },
   "outputs": [],
   "source": [
    "import numpy as np\n",
    "import tensorflow as tf\n",
    "import os\n",
    "from datetime import datetime"
   ]
  },
  {
   "cell_type": "code",
   "execution_count": 2,
   "metadata": {
    "collapsed": true
   },
   "outputs": [],
   "source": [
    "n_inputs = 3\n",
    "n_neurons = 5"
   ]
  },
  {
   "cell_type": "code",
   "execution_count": 3,
   "metadata": {},
   "outputs": [],
   "source": [
    "# Each row of X corresponds to an instance and each column corresponds to a feature\n",
    "X0 = tf.placeholder(tf.float32, [None, n_inputs], name='X0') # Timestep 0\n",
    "X1 = tf.placeholder(tf.float32, [None, n_inputs], name='X1') # Timestep 1\n",
    "X2 = tf.placeholder(tf.float32, [None, n_inputs], name='X2') # Timestep 1\n",
    "\n",
    "basic_cell = tf.contrib.rnn.BasicRNNCell(num_units=n_neurons)\n",
    "output_seqs, states = tf.contrib.rnn.static_rnn(basic_cell, [X0, X1, X2], dtype=tf.float32)\n",
    "\n",
    "Y0, Y1, Y2 = output_seqs"
   ]
  },
  {
   "cell_type": "code",
   "execution_count": 4,
   "metadata": {
    "collapsed": true
   },
   "outputs": [],
   "source": [
    "now = datetime.utcnow().strftime(\"%Y-%m-%d-%H:%M:%S\")\n",
    "root_logdir = \"tf_logs\"\n",
    "logdir = os.path.join(os.getcwd(),\"{}/run-{}\".format(root_logdir, now))\n",
    "\n",
    "file_writer = tf.summary.FileWriter(logdir, tf.get_default_graph())"
   ]
  },
  {
   "cell_type": "code",
   "execution_count": 5,
   "metadata": {
    "scrolled": true
   },
   "outputs": [],
   "source": [
    "init = tf.global_variables_initializer()\n",
    "# Mini-batch\n",
    "X0_batch = np.array([[0,1,2],[3,4,5],[6,7,8],[9,0,1]])\n",
    "X1_batch = np.array([[9,8,7],[0,0,0],[6,5,4],[3,2,1]])\n",
    "X2_batch = np.array([[0,1,2],[3,4,5],[6,7,8],[9,0,1]])\n",
    "\n",
    "\n",
    "sess = tf.InteractiveSession()\n",
    "init.run()\n",
    "np_output_seqs, np_states = sess.run([output_seqs, states], feed_dict={X0:X0_batch, X1:X1_batch, X2:X2_batch})\n",
    "sess.close()\n",
    "file_writer.close()"
   ]
  },
  {
   "cell_type": "code",
   "execution_count": 7,
   "metadata": {},
   "outputs": [
    {
     "data": {
      "text/plain": [
       "array([[ 0.79582047, -0.60666764,  0.77842462,  0.7918852 , -0.26111513],\n",
       "       [ 0.9988271 ,  0.99440843,  0.01680013,  0.99987364, -0.99905503],\n",
       "       [ 0.99999082,  0.99959475,  0.97910529,  0.99998438, -0.99988765],\n",
       "       [ 0.76728821,  0.99939293,  0.2266441 ,  0.11463479, -0.46154499]], dtype=float32)"
      ]
     },
     "execution_count": 7,
     "metadata": {},
     "output_type": "execute_result"
    }
   ],
   "source": [
    "states"
   ]
  }
 ],
 "metadata": {
  "kernelspec": {
   "display_name": "Python 3",
   "language": "python",
   "name": "python3"
  },
  "language_info": {
   "codemirror_mode": {
    "name": "ipython",
    "version": 3
   },
   "file_extension": ".py",
   "mimetype": "text/x-python",
   "name": "python",
   "nbconvert_exporter": "python",
   "pygments_lexer": "ipython3",
   "version": "3.5.2"
  }
 },
 "nbformat": 4,
 "nbformat_minor": 2
}
