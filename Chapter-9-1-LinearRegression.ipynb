{
 "cells": [
  {
   "cell_type": "code",
   "execution_count": 1,
   "metadata": {},
   "outputs": [],
   "source": [
    "import numpy as np\n",
    "import tensorflow as tf\n",
    "from sklearn.datasets import fetch_california_housing"
   ]
  },
  {
   "cell_type": "code",
   "execution_count": 2,
   "metadata": {},
   "outputs": [],
   "source": [
    "housing = fetch_california_housing()\n",
    "m, n = housing.data.shape\n",
    "housing_data_plus_bias = np.c_[np.ones((m, 1)), housing.data]"
   ]
  },
  {
   "cell_type": "code",
   "execution_count": 3,
   "metadata": {
    "scrolled": true
   },
   "outputs": [],
   "source": [
    "X = tf.constant(housing_data_plus_bias, dtype=tf.float32, name ='X')\n",
    "y = tf.constant(housing.target.reshape(-1,1), dtype=tf.float32, name ='y')\n",
    "Xt = tf.transpose(X)\n",
    "theta = tf.matmul(tf.matmul(tf.matrix_inverse(tf.matmul(Xt, X)), Xt), y)\n",
    "y_pred = tf.matmul(X, theta)\n",
    "error = y_pred - y\n",
    "mse = tf.reduce_mean(tf.square(error), name='mse')"
   ]
  },
  {
   "cell_type": "code",
   "execution_count": 4,
   "metadata": {
    "collapsed": true
   },
   "outputs": [],
   "source": [
    "sess = tf.InteractiveSession()\n",
    "np_theta, np_y_pred, np_mse = sess.run([theta, y_pred, mse])\n",
    "sess.close()"
   ]
  },
  {
   "cell_type": "code",
   "execution_count": null,
   "metadata": {},
   "outputs": [],
   "source": [
    "class LinearRegression(object):\n",
    "    \n",
    "    def __init__(self, housing):\n",
    "        m, n = housing.data.shape\n",
    "        housing_data_plus_bias = np.c_[np.ones((m, 1)), housing.data]\n",
    "        self.X = tf.constant(housing_data_plus_bias, dtype=tf.float32, name ='X')\n",
    "        self.y = tf.constant(housing.target.reshape(-1,1), dtype=tf.float32, name ='y')\n",
    "        return self.X, self.y\n",
    "    \n",
    "    def make_prediction(self, theta):\n",
    "        self.y_pred = tf.matmul(self.X, theta)\n",
    "        self.error = self.y_pred - self.y\n",
    "        self.mse = tf.reduce_mean(tf.square(self.error))\n",
    "    \n",
    "        \n",
    "        \n",
    "        "
   ]
  }
 ],
 "metadata": {
  "kernelspec": {
   "display_name": "Python 3",
   "language": "python",
   "name": "python3"
  },
  "language_info": {
   "codemirror_mode": {
    "name": "ipython",
    "version": 3
   },
   "file_extension": ".py",
   "mimetype": "text/x-python",
   "name": "python",
   "nbconvert_exporter": "python",
   "pygments_lexer": "ipython3",
   "version": "3.5.2"
  }
 },
 "nbformat": 4,
 "nbformat_minor": 2
}
