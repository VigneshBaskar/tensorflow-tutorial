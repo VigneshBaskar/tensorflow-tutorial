{
 "cells": [
  {
   "cell_type": "code",
   "execution_count": 1,
   "metadata": {},
   "outputs": [],
   "source": [
    "import numpy as np\n",
    "import tensorflow as tf\n",
    "from sklearn.datasets import fetch_california_housing"
   ]
  },
  {
   "cell_type": "code",
   "execution_count": 2,
   "metadata": {},
   "outputs": [],
   "source": [
    "class LinearRegression(object):\n",
    "    \n",
    "    def __init__(self, housing):\n",
    "        m, n = housing.data.shape\n",
    "        housing_data_plus_bias = np.c_[np.ones((m, 1)), housing.data]\n",
    "        self.X = tf.constant(housing_data_plus_bias, dtype=tf.float32, name ='X')\n",
    "        self.y = tf.constant(housing.target.reshape(-1,1), dtype=tf.float32, name ='y')\n",
    "        return self.X, self.y\n",
    "    \n",
    "    def make_prediction(self, theta):\n",
    "        self.y_pred = tf.matmul(self.X, theta)\n",
    "        self.error = self.y_pred - self.y\n",
    "        self.mse = tf.reduce_mean(tf.square(self.error))\n",
    "    \n",
    "        \n",
    "        \n",
    "        "
   ]
  }
 ],
 "metadata": {
  "kernelspec": {
   "display_name": "Python 3",
   "language": "python",
   "name": "python3"
  },
  "language_info": {
   "codemirror_mode": {
    "name": "ipython",
    "version": 3
   },
   "file_extension": ".py",
   "mimetype": "text/x-python",
   "name": "python",
   "nbconvert_exporter": "python",
   "pygments_lexer": "ipython3",
   "version": "3.5.2"
  }
 },
 "nbformat": 4,
 "nbformat_minor": 2
}
