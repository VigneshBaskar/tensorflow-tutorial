{
 "cells": [
  {
   "cell_type": "markdown",
   "metadata": {},
   "source": [
    "In a Simple / Basic RNN, it is all about implementing the following equation\n",
    "\n",
    "$Y_t = f( X_t . W_x +  Y_{t-1} . W_y  + b )$"
   ]
  },
  {
   "cell_type": "code",
   "execution_count": 1,
   "metadata": {
    "collapsed": true
   },
   "outputs": [],
   "source": [
    "import numpy as np\n",
    "import tensorflow as tf\n",
    "import os\n",
    "from datetime import datetime"
   ]
  },
  {
   "cell_type": "code",
   "execution_count": 2,
   "metadata": {
    "collapsed": true
   },
   "outputs": [],
   "source": [
    "n_inputs = 3\n",
    "n_neurons = 5\n",
    "n_steps = 2"
   ]
  },
  {
   "cell_type": "code",
   "execution_count": 3,
   "metadata": {},
   "outputs": [],
   "source": [
    "# Each row of X corresponds to an instance and each column corresponds to a feature\n",
    "X = tf.placeholder(tf.float32, [None, n_steps, n_inputs], name='X')\n",
    "X_seqs = tf.unstack(tf.transpose(X, perm=[1,0,2]))\n",
    "\n",
    "basic_cell = tf.contrib.rnn.BasicRNNCell(num_units=n_neurons)\n",
    "output_seqs, states = tf.contrib.rnn.static_rnn(basic_cell, X_seqs, dtype=tf.float32)\n",
    "\n",
    "outputs = tf.transpose(tf.stack(output_seqs), perm=[1,0,2])"
   ]
  },
  {
   "cell_type": "code",
   "execution_count": 4,
   "metadata": {
    "collapsed": true
   },
   "outputs": [],
   "source": [
    "now = datetime.utcnow().strftime(\"%Y-%m-%d-%H:%M:%S\")\n",
    "root_logdir = \"tf_logs\"\n",
    "logdir = os.path.join(os.getcwd(),\"{}/run-{}\".format(root_logdir, now))\n",
    "\n",
    "file_writer = tf.summary.FileWriter(logdir, tf.get_default_graph())"
   ]
  },
  {
   "cell_type": "code",
   "execution_count": 5,
   "metadata": {
    "scrolled": true
   },
   "outputs": [],
   "source": [
    "init = tf.global_variables_initializer()\n",
    "# Mini-batch\n",
    "X_batch = np.array([\n",
    "    # step 0   step 1\n",
    "    [[0,1,2],[9,8,7]], # instance 0\n",
    "    [[3,4,5],[0,0,0]], # instance 1\n",
    "    [[6,7,8],[6,5,4]], # instance 2\n",
    "    [[9,0,1],[3,2,1]]  # instance 3\n",
    "])\n",
    "\n",
    "sess = tf.InteractiveSession()\n",
    "init.run()\n",
    "np_output_seqs, np_states, np_outputs, np_X_seqs = sess.run([output_seqs, states, outputs, X_seqs], feed_dict={X:X_batch})\n",
    "sess.close()\n",
    "file_writer.close()"
   ]
  },
  {
   "cell_type": "code",
   "execution_count": 13,
   "metadata": {},
   "outputs": [
    {
     "data": {
      "text/plain": [
       "((4, 2, 3), 2, (4, 3), 2, TensorShape([Dimension(None), Dimension(5)]))"
      ]
     },
     "execution_count": 13,
     "metadata": {},
     "output_type": "execute_result"
    }
   ],
   "source": [
    "X_batch.shape, len(X_seqs), np_X_seqs[0].shape, len(np_output_seqs), states.shape"
   ]
  }
 ],
 "metadata": {
  "kernelspec": {
   "display_name": "Python 3",
   "language": "python",
   "name": "python3"
  },
  "language_info": {
   "codemirror_mode": {
    "name": "ipython",
    "version": 3
   },
   "file_extension": ".py",
   "mimetype": "text/x-python",
   "name": "python",
   "nbconvert_exporter": "python",
   "pygments_lexer": "ipython3",
   "version": "3.5.2"
  }
 },
 "nbformat": 4,
 "nbformat_minor": 2
}
