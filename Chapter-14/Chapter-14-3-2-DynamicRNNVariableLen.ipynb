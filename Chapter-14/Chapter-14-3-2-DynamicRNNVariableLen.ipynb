{
 "cells": [
  {
   "cell_type": "markdown",
   "metadata": {},
   "source": [
    "In a Simple / Basic RNN, it is all about implementing the following equation\n",
    "\n",
    "$Y_t = f( X_t . W_x +  Y_{t-1} . W_y  + b )$"
   ]
  },
  {
   "cell_type": "code",
   "execution_count": 1,
   "metadata": {
    "collapsed": true
   },
   "outputs": [],
   "source": [
    "import numpy as np\n",
    "import tensorflow as tf\n",
    "import os\n",
    "from datetime import datetime"
   ]
  },
  {
   "cell_type": "code",
   "execution_count": 2,
   "metadata": {
    "collapsed": true
   },
   "outputs": [],
   "source": [
    "n_inputs = 3\n",
    "n_neurons = 5\n",
    "n_steps = 2"
   ]
  },
  {
   "cell_type": "code",
   "execution_count": 3,
   "metadata": {
    "scrolled": true
   },
   "outputs": [],
   "source": [
    "# Each row of X corresponds to an instance and each column corresponds to a feature\n",
    "X = tf.placeholder(tf.float32, [None, n_steps, n_inputs], name='X')\n",
    "seq_length = tf.placeholder(tf.int32, [None])\n",
    "\n",
    "basic_cell = tf.contrib.rnn.BasicRNNCell(num_units=n_neurons)\n",
    "outputs, states = tf.nn.bidirectional_dynamic_rnn(basic_cell, basic_cell, X, sequence_length=seq_length, dtype=tf.float32)\n",
    "\n"
   ]
  },
  {
   "cell_type": "code",
   "execution_count": 4,
   "metadata": {
    "collapsed": true
   },
   "outputs": [],
   "source": [
    "now = datetime.utcnow().strftime(\"%Y-%m-%d-%H:%M:%S\")\n",
    "root_logdir = \"tf_logs\"\n",
    "logdir = os.path.join(os.getcwd(),\"{}/run-{}\".format(root_logdir, now))\n",
    "\n",
    "file_writer = tf.summary.FileWriter(logdir, tf.get_default_graph())"
   ]
  },
  {
   "cell_type": "code",
   "execution_count": 5,
   "metadata": {
    "collapsed": true,
    "scrolled": true
   },
   "outputs": [],
   "source": [
    "init = tf.global_variables_initializer()\n",
    "# Mini-batch\n",
    "X_batch = np.array([\n",
    "    # step 0   step 1\n",
    "    [[0,1,2],[9,8,7]], # instance 0\n",
    "    [[3,4,5],[0,0,0]], # instance 1\n",
    "    [[6,7,8],[6,5,4]], # instance 2\n",
    "    [[9,0,1],[3,2,1]]  # instance 3\n",
    "])\n",
    "\n",
    "seq_length_batch = np.array([2,1,2,2])\n",
    "\n",
    "sess = tf.InteractiveSession()\n",
    "init.run()\n",
    "np_outputs, np_states = sess.run([outputs, states], feed_dict={X:X_batch, seq_length:seq_length_batch})\n",
    "sess.close()\n",
    "file_writer.close()"
   ]
  },
  {
   "cell_type": "code",
   "execution_count": 6,
   "metadata": {},
   "outputs": [
    {
     "data": {
      "text/plain": [
       "(array([[[ 0.62456441,  0.51542926,  0.78852516, -0.30028352,  0.35053119],\n",
       "         [ 0.99996674,  0.99978018,  0.99912155, -0.98141289,  0.99963123]],\n",
       " \n",
       "        [[ 0.98997939,  0.97457141,  0.98699087, -0.89396745,  0.92034352],\n",
       "         [ 0.        ,  0.        ,  0.        ,  0.        ,  0.        ]],\n",
       " \n",
       "        [[ 0.9997806 ,  0.99896324,  0.99927521, -0.9884187 ,  0.99286968],\n",
       "         [ 0.99889207,  0.99731725,  0.99397218, -0.56042224,  0.9989934 ]],\n",
       " \n",
       "        [[ 0.99874508,  0.79840922, -0.99042952, -0.46883222,  0.98156255],\n",
       "         [ 0.74849957,  0.59989536,  0.92178011, -0.14657295,  0.71936738]]], dtype=float32),\n",
       " array([[[ 0.88217646,  0.84476829,  0.97281945,  0.7660771 ,  0.96930456],\n",
       "         [ 0.99991047,  0.99959147,  0.99713248, -0.99582374,  0.9973346 ]],\n",
       " \n",
       "        [[ 0.98997939,  0.97457141,  0.98699087, -0.89396745,  0.92034352],\n",
       "         [ 0.        ,  0.        ,  0.        ,  0.        ,  0.        ]],\n",
       " \n",
       "        [[ 0.99993819,  0.99970514,  0.99991447, -0.85645562,  0.9997431 ],\n",
       "         [ 0.99589956,  0.98990589,  0.94944942, -0.9605667 ,  0.96952909]],\n",
       " \n",
       "        [[ 0.9993546 ,  0.87847453, -0.94623351,  0.36780474,  0.99763197],\n",
       "         [ 0.8276754 ,  0.77627403,  0.36211845, -0.67598271,  0.69582951]]], dtype=float32))"
      ]
     },
     "execution_count": 6,
     "metadata": {},
     "output_type": "execute_result"
    }
   ],
   "source": [
    "np_outputs"
   ]
  },
  {
   "cell_type": "code",
   "execution_count": 7,
   "metadata": {},
   "outputs": [
    {
     "data": {
      "text/plain": [
       "(array([[ 0.99996674,  0.99978018,  0.99912155, -0.98141289,  0.99963123],\n",
       "        [ 0.98997939,  0.97457141,  0.98699087, -0.89396745,  0.92034352],\n",
       "        [ 0.99889207,  0.99731725,  0.99397218, -0.56042224,  0.9989934 ],\n",
       "        [ 0.74849957,  0.59989536,  0.92178011, -0.14657295,  0.71936738]], dtype=float32),\n",
       " array([[ 0.88217646,  0.84476829,  0.97281945,  0.7660771 ,  0.96930456],\n",
       "        [ 0.98997939,  0.97457141,  0.98699087, -0.89396745,  0.92034352],\n",
       "        [ 0.99993819,  0.99970514,  0.99991447, -0.85645562,  0.9997431 ],\n",
       "        [ 0.9993546 ,  0.87847453, -0.94623351,  0.36780474,  0.99763197]], dtype=float32))"
      ]
     },
     "execution_count": 7,
     "metadata": {},
     "output_type": "execute_result"
    }
   ],
   "source": [
    "np_states"
   ]
  }
 ],
 "metadata": {
  "kernelspec": {
   "display_name": "Python 3",
   "language": "python",
   "name": "python3"
  },
  "language_info": {
   "codemirror_mode": {
    "name": "ipython",
    "version": 3
   },
   "file_extension": ".py",
   "mimetype": "text/x-python",
   "name": "python",
   "nbconvert_exporter": "python",
   "pygments_lexer": "ipython3",
   "version": "3.5.2"
  }
 },
 "nbformat": 4,
 "nbformat_minor": 2
}
