{
 "cells": [
  {
   "cell_type": "code",
   "execution_count": 1,
   "metadata": {
    "collapsed": true
   },
   "outputs": [],
   "source": [
    "import numpy as np\n",
    "import tensorflow as tf\n",
    "from sklearn.datasets import fetch_california_housing\n",
    "from sklearn.preprocessing import StandardScaler"
   ]
  },
  {
   "cell_type": "code",
   "execution_count": 2,
   "metadata": {
    "collapsed": true
   },
   "outputs": [],
   "source": [
    "housing = fetch_california_housing()\n",
    "m, n = housing.data.shape"
   ]
  },
  {
   "cell_type": "code",
   "execution_count": 3,
   "metadata": {
    "collapsed": true
   },
   "outputs": [],
   "source": [
    "scaler = StandardScaler()\n",
    "scaled_housing_data = scaler.fit_transform(housing.data)\n",
    "scaled_housing_data_plus_bias = np.c_[np.ones((m, 1)), scaled_housing_data]"
   ]
  },
  {
   "cell_type": "code",
   "execution_count": 4,
   "metadata": {
    "collapsed": true
   },
   "outputs": [],
   "source": [
    "learning_rate = 0.01\n",
    "n_epochs = 1000"
   ]
  },
  {
   "cell_type": "code",
   "execution_count": 5,
   "metadata": {},
   "outputs": [],
   "source": [
    "# Constructing the Graph\n",
    "\n",
    "# Input Variables and Parameters\n",
    "X = tf.constant(scaled_housing_data_plus_bias, dtype=tf.float32, name= 'X')\n",
    "y = tf.constant(housing.target.reshape(-1, 1), dtype=tf.float32, name= 'y')\n",
    "theta = tf.Variable(tf.random_uniform([n + 1, 1], minval=-1.0, maxval=1.0), name='theta')\n",
    "\n",
    "# Making predictions\n",
    "y_pred = tf.matmul(X, theta, name='y_pred')\n",
    "\n",
    "# Calculating errors\n",
    "error = y_pred - y\n",
    "mse = tf.reduce_mean(tf.square(error), name='mse')\n",
    "\n",
    "# Back-progation process\n",
    "# 1. Calculating the gradients of the error function with respect to the parameters\n",
    "\n",
    "# Manual gradient calculation\n",
    "# gradients = 2/m * tf.matmul(tf.transpose(X), error)\n",
    "\n",
    "# Calculating the gradients using the inbuilt Reverse mode auto-differentiation\n",
    "gradients = tf.gradients(mse, [theta])[0]\n",
    "\n",
    "# 2. Updating the parameters\n",
    "training_op = tf.assign(theta, theta - learning_rate * gradients)"
   ]
  },
  {
   "cell_type": "code",
   "execution_count": 6,
   "metadata": {
    "scrolled": false
   },
   "outputs": [
    {
     "name": "stdout",
     "output_type": "stream",
     "text": [
      "Epoch  0 MSE : 11.9314\n",
      "Epoch  100 MSE : 0.759775\n",
      "Epoch  200 MSE : 0.547735\n",
      "Epoch  300 MSE : 0.537816\n",
      "Epoch  400 MSE : 0.534298\n",
      "Epoch  500 MSE : 0.531845\n",
      "Epoch  600 MSE : 0.530028\n",
      "Epoch  700 MSE : 0.528671\n",
      "Epoch  800 MSE : 0.527653\n",
      "Epoch  900 MSE : 0.526887\n"
     ]
    }
   ],
   "source": [
    "init = tf.global_variables_initializer()\n",
    "\n",
    "sess = tf.InteractiveSession()\n",
    "sess.run(init)\n",
    "for epoch in range(n_epochs):\n",
    "    if epoch % 100 == 0:\n",
    "        print('Epoch ', epoch, 'MSE :', mse.eval())\n",
    "    sess.run(training_op)\n",
    "\n",
    "np_mse, np_theta, np_y_pred = sess.run([mse, theta, y_pred])\n",
    "\n",
    "sess.close()"
   ]
  },
  {
   "cell_type": "code",
   "execution_count": null,
   "metadata": {},
   "outputs": [],
   "source": []
  }
 ],
 "metadata": {
  "kernelspec": {
   "display_name": "Python 3",
   "language": "python",
   "name": "python3"
  },
  "language_info": {
   "codemirror_mode": {
    "name": "ipython",
    "version": 3
   },
   "file_extension": ".py",
   "mimetype": "text/x-python",
   "name": "python",
   "nbconvert_exporter": "python",
   "pygments_lexer": "ipython3",
   "version": "3.5.2"
  }
 },
 "nbformat": 4,
 "nbformat_minor": 2
}
