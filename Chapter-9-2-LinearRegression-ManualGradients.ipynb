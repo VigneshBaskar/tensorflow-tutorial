{
 "cells": [
  {
   "cell_type": "code",
   "execution_count": 1,
   "metadata": {
    "collapsed": true
   },
   "outputs": [],
   "source": [
    "import numpy as np\n",
    "import tensorflow as tf\n",
    "from sklearn.datasets import fetch_california_housing\n",
    "from sklearn.preprocessing import StandardScaler"
   ]
  },
  {
   "cell_type": "code",
   "execution_count": 2,
   "metadata": {
    "collapsed": true
   },
   "outputs": [],
   "source": [
    "housing = fetch_california_housing()\n",
    "m, n = housing.data.shape\n",
    "housing_data_plus_bias = np.c_[np.ones((m, 1)), housing.data]"
   ]
  },
  {
   "cell_type": "code",
   "execution_count": 3,
   "metadata": {
    "collapsed": true
   },
   "outputs": [],
   "source": [
    "scaler = StandardScaler()\n",
    "scaled_housing_data_plus_bias = scaler.fit_transform(housing_data_plus_bias)\n"
   ]
  },
  {
   "cell_type": "code",
   "execution_count": 4,
   "metadata": {
    "collapsed": true
   },
   "outputs": [],
   "source": [
    "learning_rate = 0.01\n",
    "n_epochs = 1000"
   ]
  },
  {
   "cell_type": "code",
   "execution_count": 5,
   "metadata": {
    "collapsed": true
   },
   "outputs": [],
   "source": [
    "# Constructing the Graph\n",
    "\n",
    "# Input Variables and Parameters\n",
    "X = tf.constant(scaled_housing_data_plus_bias, dtype=tf.float32, name= 'X')\n",
    "y = tf.constant(housing.target.reshape(-1, 1), dtype=tf.float32, name= 'y')\n",
    "theta = tf.Variable(tf.random_uniform([n+1, 1], minval=-1.0, maxval=1.0), name='theta')\n",
    "\n",
    "# Making predictions\n",
    "y_pred = tf.matmul(X, theta, name='y_pred')\n",
    "\n",
    "# Calculating errors\n",
    "error = y_pred - y\n",
    "mse = tf.reduce_mean(tf.square(error), name='mse')\n",
    "\n",
    "# Back-progation process\n",
    "# 1. Calculating the gradients of the error function with respect to the parameters\n",
    "gradients = 2/m * tf.matmul(tf.transpose(X), error)\n",
    "\n",
    "# 2. Updating the parameters\n",
    "training_op = tf.assign(theta, theta - learning_rate * gradients)"
   ]
  },
  {
   "cell_type": "code",
   "execution_count": 6,
   "metadata": {
    "scrolled": false
   },
   "outputs": [
    {
     "name": "stdout",
     "output_type": "stream",
     "text": [
      "Epoch  0 MSE : 5.36276\n",
      "Epoch  100 MSE : 4.85139\n",
      "Epoch  200 MSE : 4.8175\n",
      "Epoch  300 MSE : 4.81223\n",
      "Epoch  400 MSE : 4.80972\n",
      "Epoch  500 MSE : 4.80798\n",
      "Epoch  600 MSE : 4.80673\n",
      "Epoch  700 MSE : 4.80581\n",
      "Epoch  800 MSE : 4.80514\n",
      "Epoch  900 MSE : 4.80465\n"
     ]
    }
   ],
   "source": [
    "init = tf.global_variables_initializer()\n",
    "\n",
    "sess = tf.InteractiveSession()\n",
    "sess.run(init)\n",
    "for epoch in range(n_epochs):\n",
    "    if epoch % 100 == 0:\n",
    "        print('Epoch ', epoch, 'MSE :', mse.eval())\n",
    "    sess.run(training_op)\n",
    "\n",
    "np_mse, np_theta, np_y_pred = sess.run([mse, theta, y_pred])\n",
    "\n",
    "sess.close()"
   ]
  },
  {
   "cell_type": "code",
   "execution_count": 7,
   "metadata": {},
   "outputs": [
    {
     "data": {
      "text/plain": [
       "array([[ 2.06358695],\n",
       "       [ 1.89446092],\n",
       "       [ 1.62567091],\n",
       "       ..., \n",
       "       [-1.83503783],\n",
       "       [-1.6932292 ],\n",
       "       [-1.4951179 ]], dtype=float32)"
      ]
     },
     "execution_count": 7,
     "metadata": {},
     "output_type": "execute_result"
    }
   ],
   "source": [
    "np_y_pred"
   ]
  }
 ],
 "metadata": {
  "kernelspec": {
   "display_name": "Python 3",
   "language": "python",
   "name": "python3"
  },
  "language_info": {
   "codemirror_mode": {
    "name": "ipython",
    "version": 3
   },
   "file_extension": ".py",
   "mimetype": "text/x-python",
   "name": "python",
   "nbconvert_exporter": "python",
   "pygments_lexer": "ipython3",
   "version": "3.5.2"
  }
 },
 "nbformat": 4,
 "nbformat_minor": 2
}
