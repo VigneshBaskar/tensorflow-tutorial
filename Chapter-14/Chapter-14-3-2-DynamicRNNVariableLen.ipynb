{
 "cells": [
  {
   "cell_type": "markdown",
   "metadata": {},
   "source": [
    "In a Simple / Basic RNN, it is all about implementing the following equation\n",
    "\n",
    "$Y_t = f( X_t . W_x +  Y_{t-1} . W_y  + b )$"
   ]
  },
  {
   "cell_type": "code",
   "execution_count": 1,
   "metadata": {
    "collapsed": true
   },
   "outputs": [],
   "source": [
    "import numpy as np\n",
    "import tensorflow as tf\n",
    "import os\n",
    "from datetime import datetime"
   ]
  },
  {
   "cell_type": "code",
   "execution_count": 2,
   "metadata": {
    "collapsed": true
   },
   "outputs": [],
   "source": [
    "n_inputs = 3\n",
    "n_neurons = 5\n",
    "n_steps = 2"
   ]
  },
  {
   "cell_type": "code",
   "execution_count": 3,
   "metadata": {
    "collapsed": true,
    "scrolled": true
   },
   "outputs": [],
   "source": [
    "X = tf.placeholder(tf.float32, [None, n_steps, n_inputs], name='X')\n",
    "seq_length = tf.placeholder(tf.int32, [None], name='seq_length')\n",
    "\n",
    "basic_cell_fw = tf.contrib.rnn.BasicRNNCell(num_units=n_neurons)\n",
    "basic_cell_bw = tf.contrib.rnn.BasicRNNCell(num_units=n_neurons)\n",
    "\n",
    "outputs, states = tf.nn.bidirectional_dynamic_rnn(basic_cell_fw, basic_cell_bw, X, sequence_length=seq_length, dtype=tf.float32)\n",
    "conc_outputs = tf.concat(outputs, 2, name='conc_outputs')\n"
   ]
  },
  {
   "cell_type": "code",
   "execution_count": 4,
   "metadata": {
    "collapsed": true
   },
   "outputs": [],
   "source": [
    "now = datetime.utcnow().strftime(\"%Y-%m-%d-%H:%M:%S\")\n",
    "root_logdir = \"tf_logs\"\n",
    "logdir = os.path.join(os.getcwd(),\"{}/run-{}\".format(root_logdir, now))\n",
    "\n",
    "file_writer = tf.summary.FileWriter(logdir, tf.get_default_graph())"
   ]
  },
  {
   "cell_type": "code",
   "execution_count": 5,
   "metadata": {
    "collapsed": true,
    "scrolled": true
   },
   "outputs": [],
   "source": [
    "init = tf.global_variables_initializer()\n",
    "# Mini-batch\n",
    "X_batch = np.array([\n",
    "    # step 0   step 1\n",
    "    [[0,1,2],[9,8,7]], # instance 0\n",
    "    [[3,4,5],[0,0,0]], # instance 1\n",
    "    [[6,7,8],[6,5,4]], # instance 2\n",
    "    [[9,0,1],[3,2,1]]  # instance 3\n",
    "])\n",
    "\n",
    "seq_length_batch = np.array([2,1,2,2])\n",
    "\n",
    "sess = tf.InteractiveSession()\n",
    "init.run()\n",
    "np_outputs, np_states, np_conc_outputs = sess.run([outputs, states, conc_outputs], feed_dict={X:X_batch, seq_length:seq_length_batch})\n",
    "sess.close()\n",
    "file_writer.close()"
   ]
  },
  {
   "cell_type": "code",
   "execution_count": 6,
   "metadata": {},
   "outputs": [
    {
     "data": {
      "text/plain": [
       "(array([[[-0.90247554,  0.71488017, -0.67150509, -0.69992298, -0.48467708],\n",
       "         [-0.97520906,  0.98924893,  0.97816467, -0.99993235,  0.96553952]],\n",
       " \n",
       "        [[-0.98945618,  0.98230791, -0.60020423, -0.9962306 , -0.23603959],\n",
       "         [ 0.        ,  0.        ,  0.        ,  0.        ,  0.        ]],\n",
       " \n",
       "        [[-0.99890471,  0.99904227, -0.51789087, -0.99995959,  0.04789119],\n",
       "         [-0.89029807,  0.84119344,  0.97316492, -0.99435395,  0.92399073]],\n",
       " \n",
       "        [[ 0.99975288,  0.91331661,  0.99985558,  0.02976218,  0.61368006],\n",
       "         [-0.18096282,  0.93361694,  0.38181186, -0.81181109,  0.23601186]]], dtype=float32),\n",
       " array([[[-0.89816159, -0.85262525, -0.80174124, -0.81249034,  0.27229077],\n",
       "         [ 0.99944592, -1.        , -0.99999821,  0.44677779,  0.66885793]],\n",
       " \n",
       "        [[ 0.73549163, -0.99999171, -0.99276799, -0.3467494 ,  0.93305779],\n",
       "         [ 0.        ,  0.        ,  0.        ,  0.        ,  0.        ]],\n",
       " \n",
       "        [[ 0.8445127 , -1.        , -0.99997896, -0.67519128,  0.94993401],\n",
       "         [ 0.99314833, -0.99999946, -0.9997648 ,  0.42266846,  0.18400697]],\n",
       " \n",
       "        [[ 0.87993622, -0.99955827, -0.99886024, -0.61189216, -0.99954116],\n",
       "         [ 0.91820472, -0.99468845, -0.96923995,  0.39794567, -0.41067269]]], dtype=float32))"
      ]
     },
     "execution_count": 6,
     "metadata": {},
     "output_type": "execute_result"
    }
   ],
   "source": [
    "np_outputs"
   ]
  },
  {
   "cell_type": "code",
   "execution_count": 7,
   "metadata": {},
   "outputs": [
    {
     "data": {
      "text/plain": [
       "(array([[-0.97520906,  0.98924893,  0.97816467, -0.99993235,  0.96553952],\n",
       "        [-0.98945618,  0.98230791, -0.60020423, -0.9962306 , -0.23603959],\n",
       "        [-0.89029807,  0.84119344,  0.97316492, -0.99435395,  0.92399073],\n",
       "        [-0.18096282,  0.93361694,  0.38181186, -0.81181109,  0.23601186]], dtype=float32),\n",
       " array([[-0.89816159, -0.85262525, -0.80174124, -0.81249034,  0.27229077],\n",
       "        [ 0.73549163, -0.99999171, -0.99276799, -0.3467494 ,  0.93305779],\n",
       "        [ 0.8445127 , -1.        , -0.99997896, -0.67519128,  0.94993401],\n",
       "        [ 0.87993622, -0.99955827, -0.99886024, -0.61189216, -0.99954116]], dtype=float32))"
      ]
     },
     "execution_count": 7,
     "metadata": {},
     "output_type": "execute_result"
    }
   ],
   "source": [
    "np_states"
   ]
  },
  {
   "cell_type": "code",
   "execution_count": 8,
   "metadata": {},
   "outputs": [
    {
     "data": {
      "text/plain": [
       "array([[[-0.90247554,  0.71488017, -0.67150509, -0.69992298, -0.48467708,\n",
       "         -0.89816159, -0.85262525, -0.80174124, -0.81249034,  0.27229077],\n",
       "        [-0.97520906,  0.98924893,  0.97816467, -0.99993235,  0.96553952,\n",
       "          0.99944592, -1.        , -0.99999821,  0.44677779,  0.66885793]],\n",
       "\n",
       "       [[-0.98945618,  0.98230791, -0.60020423, -0.9962306 , -0.23603959,\n",
       "          0.73549163, -0.99999171, -0.99276799, -0.3467494 ,  0.93305779],\n",
       "        [ 0.        ,  0.        ,  0.        ,  0.        ,  0.        ,\n",
       "          0.        ,  0.        ,  0.        ,  0.        ,  0.        ]],\n",
       "\n",
       "       [[-0.99890471,  0.99904227, -0.51789087, -0.99995959,  0.04789119,\n",
       "          0.8445127 , -1.        , -0.99997896, -0.67519128,  0.94993401],\n",
       "        [-0.89029807,  0.84119344,  0.97316492, -0.99435395,  0.92399073,\n",
       "          0.99314833, -0.99999946, -0.9997648 ,  0.42266846,  0.18400697]],\n",
       "\n",
       "       [[ 0.99975288,  0.91331661,  0.99985558,  0.02976218,  0.61368006,\n",
       "          0.87993622, -0.99955827, -0.99886024, -0.61189216, -0.99954116],\n",
       "        [-0.18096282,  0.93361694,  0.38181186, -0.81181109,  0.23601186,\n",
       "          0.91820472, -0.99468845, -0.96923995,  0.39794567, -0.41067269]]], dtype=float32)"
      ]
     },
     "execution_count": 8,
     "metadata": {},
     "output_type": "execute_result"
    }
   ],
   "source": [
    "np_conc_outputs"
   ]
  }
 ],
 "metadata": {
  "kernelspec": {
   "display_name": "Python 3",
   "language": "python",
   "name": "python3"
  },
  "language_info": {
   "codemirror_mode": {
    "name": "ipython",
    "version": 3
   },
   "file_extension": ".py",
   "mimetype": "text/x-python",
   "name": "python",
   "nbconvert_exporter": "python",
   "pygments_lexer": "ipython3",
   "version": "3.5.2"
  }
 },
 "nbformat": 4,
 "nbformat_minor": 2
}
