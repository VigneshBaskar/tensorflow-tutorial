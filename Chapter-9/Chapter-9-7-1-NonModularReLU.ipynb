{
 "cells": [
  {
   "cell_type": "code",
   "execution_count": 1,
   "metadata": {
    "collapsed": true
   },
   "outputs": [],
   "source": [
    "import tensorflow as tf\n",
    "import numpy as np\n",
    "import os"
   ]
  },
  {
   "cell_type": "code",
   "execution_count": 2,
   "metadata": {
    "collapsed": true
   },
   "outputs": [],
   "source": [
    "n_features = 3"
   ]
  },
  {
   "cell_type": "code",
   "execution_count": 3,
   "metadata": {
    "collapsed": true
   },
   "outputs": [],
   "source": [
    "X = tf.placeholder(tf.float32, shape=(None, n_features), name='X')\n",
    "\n",
    "w1 = tf.Variable(tf.random_normal((n_features, 1)), name='weights1')\n",
    "w2 = tf.Variable(tf.random_normal((n_features, 1)), name='weights2')\n",
    "b1 = tf.Variable(0.0, name='bias1')\n",
    "b2 = tf.Variable(0.0, name='bias2')\n",
    "\n",
    "z1 = tf.add(tf.matmul(X, w1), b1, name='z1')\n",
    "z2 = tf.add(tf.matmul(X, w2), b2, name='z2')\n",
    "\n",
    "relu1 = tf.maximum(z1, 0, name ='relu1')\n",
    "relu2 = tf.maximum(z2, 0, name ='relu2')\n",
    "\n",
    "output_1 = tf.add(relu1, relu2, name='output_1')\n",
    "output_2 = tf.add(tf.nn.relu(z1), tf.nn.relu(z2), name='output_2')"
   ]
  },
  {
   "cell_type": "code",
   "execution_count": 4,
   "metadata": {},
   "outputs": [],
   "source": [
    "init = tf.global_variables_initializer()\n",
    "\n",
    "np_X = np.random.rand(10, n_features)\n",
    "\n",
    "sess = tf.InteractiveSession()\n",
    "init.run()\n",
    "np_output_1, np_output_2 = sess.run([output_1, output_2], feed_dict={X: np_X})\n",
    "sess.close()"
   ]
  },
  {
   "cell_type": "code",
   "execution_count": 5,
   "metadata": {},
   "outputs": [
    {
     "name": "stdout",
     "output_type": "stream",
     "text": [
      "[ 1.15636194] [ 1.15636194]\n",
      "[ 0.98536867] [ 0.98536867]\n",
      "[ 0.44572669] [ 0.44572669]\n",
      "[ 0.59261763] [ 0.59261763]\n",
      "[ 1.03613329] [ 1.03613329]\n",
      "[ 0.61013478] [ 0.61013478]\n",
      "[ 0.90722787] [ 0.90722787]\n",
      "[ 0.39175266] [ 0.39175266]\n",
      "[ 0.46892384] [ 0.46892384]\n",
      "[ 0.75161767] [ 0.75161767]\n"
     ]
    }
   ],
   "source": [
    "for x, y in zip(np_output_1, np_output_2):\n",
    "    print(x,y)"
   ]
  },
  {
   "cell_type": "code",
   "execution_count": null,
   "metadata": {
    "collapsed": true
   },
   "outputs": [],
   "source": []
  }
 ],
 "metadata": {
  "kernelspec": {
   "display_name": "Python 3",
   "language": "python",
   "name": "python3"
  },
  "language_info": {
   "codemirror_mode": {
    "name": "ipython",
    "version": 3
   },
   "file_extension": ".py",
   "mimetype": "text/x-python",
   "name": "python",
   "nbconvert_exporter": "python",
   "pygments_lexer": "ipython3",
   "version": "3.5.2"
  }
 },
 "nbformat": 4,
 "nbformat_minor": 2
}
