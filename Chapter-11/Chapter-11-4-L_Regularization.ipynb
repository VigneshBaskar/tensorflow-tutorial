{
 "cells": [
  {
   "cell_type": "code",
   "execution_count": 1,
   "metadata": {
    "collapsed": true
   },
   "outputs": [],
   "source": [
    "# Xavier Initialization\n",
    "# Non Saturating Activation Functions\n",
    "# Gradient clipping\n",
    "# Early Stopping\n",
    "# L1 and L2 Regularization"
   ]
  },
  {
   "cell_type": "code",
   "execution_count": 2,
   "metadata": {
    "collapsed": true
   },
   "outputs": [],
   "source": [
    "import tensorflow as tf\n",
    "from tensorflow.examples.tutorials.mnist import input_data\n",
    "import numpy as np\n",
    "import os\n",
    "from datetime import datetime"
   ]
  },
  {
   "cell_type": "code",
   "execution_count": 3,
   "metadata": {
    "collapsed": true
   },
   "outputs": [],
   "source": [
    "from tensorflow.contrib.layers import fully_connected"
   ]
  },
  {
   "cell_type": "code",
   "execution_count": 4,
   "metadata": {
    "collapsed": true
   },
   "outputs": [],
   "source": [
    "n_inputs = 28 * 28 \n",
    "n_hidden_1 = 300\n",
    "n_hidden_2 = 100\n",
    "n_outputs = 10"
   ]
  },
  {
   "cell_type": "code",
   "execution_count": 5,
   "metadata": {},
   "outputs": [],
   "source": [
    "# Construction phase\n",
    "X = tf.placeholder(dtype=tf.float32, shape=(None, n_inputs), name='X')\n",
    "y = tf.placeholder(dtype=tf.int64, shape=(None), name='y')\n",
    "\n",
    "\n",
    "hidden_1 = fully_connected(X, n_hidden_1, scope='hidden_1')\n",
    "hidden_2 = fully_connected(hidden_1, n_hidden_2, activation_fn=tf.nn.elu, scope='hidden_2')\n",
    "logits = fully_connected(hidden_2, n_outputs, activation_fn=None, scope='hidden_3')\n",
    "\n",
    "with tf.name_scope('loss'):\n",
    "    x_entropy = tf.nn.sparse_softmax_cross_entropy_with_logits(labels=y, logits=logits, name='x_entropy')\n",
    "    base_loss = tf.reduce_mean(x_entropy, name ='loss')\n",
    "    \n",
    "    trainable_vars   = tf.trainable_variables() \n",
    "    l2_loss = tf.add_n([ tf.nn.l2_loss(v) for v in trainable_vars ])\n",
    "    \n",
    "    loss = base_loss + l2_loss  * 0.001\n",
    "\n",
    "    \n",
    "    \n",
    "\n",
    "learning_rate = 0.01\n",
    "with tf.name_scope('train'):\n",
    "    optimizer = tf.train.GradientDescentOptimizer(learning_rate)\n",
    "    training_op = optimizer.minimize(loss)\n",
    "    \n",
    "with tf.name_scope('eval'):\n",
    "    correct = tf.nn.in_top_k(logits, y, 1)\n",
    "    accuracy = tf.reduce_mean(tf.cast(correct, tf.float32))"
   ]
  },
  {
   "cell_type": "code",
   "execution_count": 6,
   "metadata": {
    "collapsed": true
   },
   "outputs": [],
   "source": [
    "\n",
    "now = datetime.utcnow().strftime(\"%Y-%m-%d-%H:%M:%S\")\n",
    "root_logdir = \"tf_logs\"\n",
    "logdir = os.path.join(os.getcwd(),\"{}/run-{}\".format(root_logdir, now))\n",
    "\n",
    "file_writer = tf.summary.FileWriter(logdir, tf.get_default_graph())"
   ]
  },
  {
   "cell_type": "code",
   "execution_count": 7,
   "metadata": {},
   "outputs": [
    {
     "name": "stdout",
     "output_type": "stream",
     "text": [
      "Extracting tmp/data/train-images-idx3-ubyte.gz\n",
      "Extracting tmp/data/train-labels-idx1-ubyte.gz\n",
      "Extracting tmp/data/t10k-images-idx3-ubyte.gz\n",
      "Extracting tmp/data/t10k-labels-idx1-ubyte.gz\n"
     ]
    }
   ],
   "source": [
    "n_epochs = 10\n",
    "batch_size = 50\n",
    "mnist = input_data.read_data_sets(\"tmp/data\")"
   ]
  },
  {
   "cell_type": "code",
   "execution_count": 8,
   "metadata": {
    "collapsed": true
   },
   "outputs": [],
   "source": [
    "accuracy_summary = tf.summary.scalar('Accuracy', accuracy)"
   ]
  },
  {
   "cell_type": "code",
   "execution_count": 9,
   "metadata": {},
   "outputs": [
    {
     "name": "stdout",
     "output_type": "stream",
     "text": [
      "0 Train accuracy  0.82 Test accuracy  0.9057\n",
      "1 Train accuracy  0.88 Test accuracy  0.9217\n",
      "2 Train accuracy  1.0 Test accuracy  0.9282\n",
      "3 Train accuracy  0.96 Test accuracy  0.9339\n",
      "4 Train accuracy  0.98 Test accuracy  0.9388\n",
      "5 Train accuracy  0.96 Test accuracy  0.9441\n",
      "6 Train accuracy  0.92 Test accuracy  0.9465\n",
      "7 Train accuracy  0.96 Test accuracy  0.9511\n",
      "8 Train accuracy  0.96 Test accuracy  0.9538\n",
      "9 Train accuracy  0.98 Test accuracy  0.956\n"
     ]
    }
   ],
   "source": [
    "init = tf.global_variables_initializer()\n",
    "saver = tf.train.Saver()\n",
    "\n",
    "sess = tf.InteractiveSession()\n",
    "init.run()\n",
    "\n",
    "for epoch in range(n_epochs):\n",
    "    for iteration in range(mnist.train.num_examples // batch_size):\n",
    "        X_batch, y_batch = mnist.train.next_batch(batch_size)\n",
    "        sess.run(training_op, feed_dict={X:X_batch, y:y_batch})\n",
    "    acc_train = accuracy.eval(feed_dict={X:X_batch, y:y_batch})\n",
    "    acc_test = accuracy.eval(feed_dict={X:mnist.test.images, y:mnist.test.labels})\n",
    "    file_writer.add_summary(accuracy_summary.eval(feed_dict={X:mnist.test.images, y:mnist.test.labels}),epoch)\n",
    "    \n",
    "    print(epoch, \"Train accuracy \", acc_train, \"Test accuracy \", acc_test)\n",
    "\n",
    "save_path = saver.save(sess, os.path.join(os.getcwd(),\"Models/L_Regularization_Model.ckpt\"))"
   ]
  },
  {
   "cell_type": "code",
   "execution_count": 10,
   "metadata": {
    "collapsed": true
   },
   "outputs": [],
   "source": [
    "sess.close()\n",
    "file_writer.close()"
   ]
  },
  {
   "cell_type": "code",
   "execution_count": null,
   "metadata": {},
   "outputs": [],
   "source": []
  },
  {
   "cell_type": "code",
   "execution_count": 11,
   "metadata": {},
   "outputs": [
    {
     "ename": "NameError",
     "evalue": "name 'lossL2' is not defined",
     "output_type": "error",
     "traceback": [
      "\u001b[0;31m---------------------------------------------------------------------------\u001b[0m",
      "\u001b[0;31mNameError\u001b[0m                                 Traceback (most recent call last)",
      "\u001b[0;32m<ipython-input-11-f4863a55be83>\u001b[0m in \u001b[0;36m<module>\u001b[0;34m()\u001b[0m\n\u001b[0;32m----> 1\u001b[0;31m \u001b[0mlossL2\u001b[0m\u001b[0;34m\u001b[0m\u001b[0m\n\u001b[0m",
      "\u001b[0;31mNameError\u001b[0m: name 'lossL2' is not defined"
     ]
    }
   ],
   "source": [
    "lossL2"
   ]
  }
 ],
 "metadata": {
  "kernelspec": {
   "display_name": "Python 3",
   "language": "python",
   "name": "python3"
  },
  "language_info": {
   "codemirror_mode": {
    "name": "ipython",
    "version": 3
   },
   "file_extension": ".py",
   "mimetype": "text/x-python",
   "name": "python",
   "nbconvert_exporter": "python",
   "pygments_lexer": "ipython3",
   "version": "3.5.2"
  }
 },
 "nbformat": 4,
 "nbformat_minor": 2
}
