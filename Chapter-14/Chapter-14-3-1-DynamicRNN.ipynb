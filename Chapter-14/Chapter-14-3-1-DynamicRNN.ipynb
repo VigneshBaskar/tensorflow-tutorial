{
 "cells": [
  {
   "cell_type": "markdown",
   "metadata": {},
   "source": [
    "In a Simple / Basic RNN, it is all about implementing the following equation\n",
    "\n",
    "$Y_t = f( X_t . W_x +  Y_{t-1} . W_y  + b )$"
   ]
  },
  {
   "cell_type": "code",
   "execution_count": 1,
   "metadata": {
    "collapsed": true
   },
   "outputs": [],
   "source": [
    "import numpy as np\n",
    "import tensorflow as tf\n",
    "import os\n",
    "from datetime import datetime"
   ]
  },
  {
   "cell_type": "code",
   "execution_count": 2,
   "metadata": {
    "collapsed": true
   },
   "outputs": [],
   "source": [
    "n_inputs = 3\n",
    "n_neurons = 5\n",
    "n_steps = 2"
   ]
  },
  {
   "cell_type": "code",
   "execution_count": 3,
   "metadata": {
    "scrolled": true
   },
   "outputs": [],
   "source": [
    "# Each row of X corresponds to an instance and each column corresponds to a feature\n",
    "X = tf.placeholder(tf.float32, [None, n_steps, n_inputs], name='X')\n",
    "\n",
    "basic_cell = tf.contrib.rnn.BasicRNNCell(num_units=n_neurons)\n",
    "outputs, states = tf.nn.dynamic_rnn(basic_cell, X, dtype=tf.float32)\n",
    "\n"
   ]
  },
  {
   "cell_type": "code",
   "execution_count": 4,
   "metadata": {
    "collapsed": true
   },
   "outputs": [],
   "source": [
    "now = datetime.utcnow().strftime(\"%Y-%m-%d-%H:%M:%S\")\n",
    "root_logdir = \"tf_logs\"\n",
    "logdir = os.path.join(os.getcwd(),\"{}/run-{}\".format(root_logdir, now))\n",
    "\n",
    "file_writer = tf.summary.FileWriter(logdir, tf.get_default_graph())"
   ]
  },
  {
   "cell_type": "code",
   "execution_count": 5,
   "metadata": {
    "collapsed": true,
    "scrolled": true
   },
   "outputs": [],
   "source": [
    "init = tf.global_variables_initializer()\n",
    "# Mini-batch\n",
    "X_batch = np.array([\n",
    "    # step 0   step 1\n",
    "    [[0,1,2],[9,8,7]], # instance 0\n",
    "    [[3,4,5],[0,0,0]], # instance 1\n",
    "    [[6,7,8],[6,5,4]], # instance 2\n",
    "    [[9,0,1],[3,2,1]]  # instance 3\n",
    "])\n",
    "\n",
    "sess = tf.InteractiveSession()\n",
    "init.run()\n",
    "np_outputs, np_states = sess.run([outputs, states], feed_dict={X:X_batch})\n",
    "sess.close()\n",
    "file_writer.close()"
   ]
  },
  {
   "cell_type": "code",
   "execution_count": 6,
   "metadata": {},
   "outputs": [
    {
     "data": {
      "text/plain": [
       "array([[[ 0.82343674,  0.39176083,  0.58258212,  0.72598696,  0.89368069],\n",
       "        [ 0.99999064, -0.99990749, -0.91685241,  0.9999997 ,  0.79238182]],\n",
       "\n",
       "       [[ 0.        ,  0.        ,  0.        ,  0.        ,  0.        ],\n",
       "        [ 0.95477521, -0.04629352,  0.60016841,  0.9577831 ,  0.92784089]],\n",
       "\n",
       "       [[ 0.999964  , -0.98187852,  0.67975032,  0.99999803,  0.99018955],\n",
       "        [ 0.99976808, -0.99973804, -0.81860709,  0.99986464,  0.82389128]],\n",
       "\n",
       "       [[ 0.6608057 , -0.99900264, -0.99251735,  0.99999571, -0.99994975],\n",
       "        [ 0.7999562 , -0.99146295, -0.38964409,  0.99033666, -0.0636555 ]]], dtype=float32)"
      ]
     },
     "execution_count": 6,
     "metadata": {},
     "output_type": "execute_result"
    }
   ],
   "source": [
    "np_outputs"
   ]
  }
 ],
 "metadata": {
  "kernelspec": {
   "display_name": "Python 3",
   "language": "python",
   "name": "python3"
  },
  "language_info": {
   "codemirror_mode": {
    "name": "ipython",
    "version": 3
   },
   "file_extension": ".py",
   "mimetype": "text/x-python",
   "name": "python",
   "nbconvert_exporter": "python",
   "pygments_lexer": "ipython3",
   "version": "3.5.2"
  }
 },
 "nbformat": 4,
 "nbformat_minor": 2
}
