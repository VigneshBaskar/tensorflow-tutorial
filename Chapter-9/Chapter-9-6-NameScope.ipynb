{
 "cells": [
  {
   "cell_type": "code",
   "execution_count": 1,
   "metadata": {
    "collapsed": true
   },
   "outputs": [],
   "source": [
    "import numpy as np\n",
    "import tensorflow as tf\n",
    "from sklearn.datasets import fetch_california_housing\n",
    "from sklearn.preprocessing import StandardScaler\n",
    "\n",
    "from datetime import datetime\n",
    "import os"
   ]
  },
  {
   "cell_type": "code",
   "execution_count": 2,
   "metadata": {
    "collapsed": true
   },
   "outputs": [],
   "source": [
    "housing = fetch_california_housing()\n",
    "m, n = housing.data.shape"
   ]
  },
  {
   "cell_type": "code",
   "execution_count": 3,
   "metadata": {
    "collapsed": true
   },
   "outputs": [],
   "source": [
    "scaler = StandardScaler()\n",
    "scaled_housing_data = scaler.fit_transform(housing.data)\n",
    "scaled_housing_data_plus_bias = np.c_[np.ones((m, 1)), scaled_housing_data]"
   ]
  },
  {
   "cell_type": "code",
   "execution_count": 4,
   "metadata": {
    "collapsed": true
   },
   "outputs": [],
   "source": [
    "learning_rate = 0.01\n",
    "n_epochs = 1000"
   ]
  },
  {
   "cell_type": "code",
   "execution_count": 5,
   "metadata": {
    "collapsed": true
   },
   "outputs": [],
   "source": [
    "# Constructing the Graph\n",
    "\n",
    "# Input Variables and Parameters\n",
    "with tf.name_scope(\"Inputs\") as scope:\n",
    "    X = tf.constant(scaled_housing_data_plus_bias, dtype=tf.float32, name= 'X')\n",
    "    y = tf.constant(housing.target.reshape(-1, 1), dtype=tf.float32, name= 'y')\n",
    "    \n",
    "theta = tf.Variable(tf.random_uniform([n + 1, 1], minval=-1.0, maxval=1.0), name='theta')\n",
    "\n",
    "# Making predictions\n",
    "y_pred = tf.matmul(X, theta, name='y_pred')\n",
    "\n",
    "# Calculating errors\n",
    "with tf.name_scope(\"Loss\") as scope:\n",
    "    error = y_pred - y\n",
    "    mse = tf.reduce_mean(tf.square(error), name='mse')\n",
    "\n",
    "# Back-progation process\n",
    "''' In these two lines of code, the gradients of the cost function is calculated with respect to all the parameters in the model\n",
    "as done by tf.gradients(mse, [theta])[0] and the parameters are updated using the delta rule in                                 case of Gradient Descent\n",
    "with the given learning rate as done by tf.assign(theta, theta - learning_rate * gradients) '''\n",
    "\n",
    "with tf.name_scope('optimization') as scope:\n",
    "    optimizer = tf.train.GradientDescentOptimizer(learning_rate=learning_rate)\n",
    "    training_op = optimizer.minimize(mse)\n"
   ]
  },
  {
   "cell_type": "code",
   "execution_count": 6,
   "metadata": {
    "collapsed": true
   },
   "outputs": [],
   "source": [
    "now = datetime.utcnow().strftime(\"%Y-%m-%d-%H:%M:%S\")\n",
    "root_logdir = \"tf_logs\"\n",
    "logdir = os.path.join(os.getcwd(),\"{}/run-{}\".format(root_logdir, now))"
   ]
  },
  {
   "cell_type": "code",
   "execution_count": 7,
   "metadata": {
    "collapsed": true
   },
   "outputs": [],
   "source": [
    "# Creating Summary stats and writing it to file along with the graph definition\n",
    "\n",
    "mse_summary = tf.summary.scalar('MSE', mse)\n",
    "file_writer = tf.summary.FileWriter(logdir, tf.get_default_graph())"
   ]
  },
  {
   "cell_type": "code",
   "execution_count": 8,
   "metadata": {
    "scrolled": false
   },
   "outputs": [
    {
     "name": "stdout",
     "output_type": "stream",
     "text": [
      "Epoch  0 MSE : 8.16029\n",
      "Epoch  100 MSE : 0.642999\n",
      "Epoch  200 MSE : 0.547652\n",
      "Epoch  300 MSE : 0.540235\n",
      "Epoch  400 MSE : 0.535992\n",
      "Epoch  500 MSE : 0.532923\n",
      "Epoch  600 MSE : 0.530679\n",
      "Epoch  700 MSE : 0.529035\n",
      "Epoch  800 MSE : 0.527828\n",
      "Epoch  900 MSE : 0.526939\n"
     ]
    }
   ],
   "source": [
    "init = tf.global_variables_initializer()\n",
    "\n",
    "sess = tf.InteractiveSession()\n",
    "sess.run(init)\n",
    "for epoch in range(n_epochs):\n",
    "    if epoch % 100 == 0:\n",
    "        print('Epoch ', epoch, 'MSE :', mse.eval())\n",
    "        # Adding Summary\n",
    "        file_writer.add_summary(mse_summary.eval(), epoch)\n",
    "    sess.run(training_op)\n",
    "\n",
    "np_mse, np_theta, np_y_pred = sess.run([mse, theta, y_pred])\n",
    "\n",
    "sess.close()"
   ]
  },
  {
   "cell_type": "code",
   "execution_count": 9,
   "metadata": {
    "collapsed": true
   },
   "outputs": [],
   "source": [
    "file_writer.close()"
   ]
  }
 ],
 "metadata": {
  "kernelspec": {
   "display_name": "Python 3",
   "language": "python",
   "name": "python3"
  },
  "language_info": {
   "codemirror_mode": {
    "name": "ipython",
    "version": 3
   },
   "file_extension": ".py",
   "mimetype": "text/x-python",
   "name": "python",
   "nbconvert_exporter": "python",
   "pygments_lexer": "ipython3",
   "version": "3.5.2"
  }
 },
 "nbformat": 4,
 "nbformat_minor": 2
}
